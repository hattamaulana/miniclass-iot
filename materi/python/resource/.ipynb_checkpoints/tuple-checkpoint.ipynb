{
 "cells": [
  {
   "cell_type": "markdown",
   "metadata": {},
   "source": [
    "# Tuple "
   ]
  },
  {
   "cell_type": "markdown",
   "metadata": {},
   "source": [
    "Membuat Tuple sangat lah mudah, untuk memasukan sebuah nilai-nilai yang dipisahkan koma. Anda dapat memasukan nilai-nilai yang dipisahkan koma ini di antara tanda kurung"
   ]
  },
  {
   "cell_type": "code",
   "execution_count": 1,
   "metadata": {},
   "outputs": [],
   "source": [
    "tup1 = ('basdat','PBO',1998,2.3)\n",
    "tup2 = (1,2,3,4,5,6,7,8,9)"
   ]
  },
  {
   "cell_type": "markdown",
   "metadata": {},
   "source": [
    "di atas merupakan beberapa contoh penggunaan Tuple di dalam bahasa pemograman Python"
   ]
  },
  {
   "cell_type": "markdown",
   "metadata": {},
   "source": [
    "# Akses Nilai Dalam Tuple Python"
   ]
  },
  {
   "cell_type": "markdown",
   "metadata": {},
   "source": [
    "Untuk mengakses nilai yang ada di dalam Tuple masih sama dengan cara kita untuk mengakses nilai didalam sebuah List yaitu dengan cara menggunakan tanda kurung siku beserta index dari nilai yang akan kita akses"
   ]
  },
  {
   "cell_type": "code",
   "execution_count": 3,
   "metadata": {},
   "outputs": [
    {
     "name": "stdout",
     "output_type": "stream",
     "text": [
      "2.3\n"
     ]
    }
   ],
   "source": [
    "#index ke 3 akan menghasilkan 2.3\n",
    "print(tup1[3])"
   ]
  },
  {
   "cell_type": "code",
   "execution_count": 5,
   "metadata": {},
   "outputs": [
    {
     "name": "stdout",
     "output_type": "stream",
     "text": [
      "(4, 5, 6, 7)\n"
     ]
    }
   ],
   "source": [
    "#akan menampilkan index ke 3 - index ke 6\n",
    "print(tup2[3:7])"
   ]
  },
  {
   "cell_type": "markdown",
   "metadata": {},
   "source": [
    "# Fungsi Build-in Pada Tuple Python"
   ]
  },
  {
   "cell_type": "code",
   "execution_count": 9,
   "metadata": {},
   "outputs": [
    {
     "name": "stdout",
     "output_type": "stream",
     "text": [
      "Panjang nilai tup2 adalah : 9\n",
      "nilai max pada tup2 adalah : 9\n",
      "Nilai terkecil dari tup2 adalah : \n"
     ]
    }
   ],
   "source": [
    "#menghitung panjang nilai dalam tuple menggunakan len()\n",
    "print(\"Panjang nilai tup2 adalah : {}\".format(len(tup2)))\n",
    "\n",
    "#mencari nilai maks di dalam tuple menggunakan max()\n",
    "print(\"nilai max pada tup2 adalah : {}\".format(max(tup2)))\n",
    "\n",
    "#mencari nilai min di dalam tuple menggunakan min()\n",
    "print(\"Nilai terkecil dari tup2 adalah : \".format(min(tup2)))"
   ]
  },
  {
   "cell_type": "code",
   "execution_count": null,
   "metadata": {},
   "outputs": [],
   "source": []
  }
 ],
 "metadata": {
  "kernelspec": {
   "display_name": "Python 3",
   "language": "python",
   "name": "python3"
  },
  "language_info": {
   "codemirror_mode": {
    "name": "ipython",
    "version": 3
   },
   "file_extension": ".py",
   "mimetype": "text/x-python",
   "name": "python",
   "nbconvert_exporter": "python",
   "pygments_lexer": "ipython3",
   "version": "3.7.0"
  }
 },
 "nbformat": 4,
 "nbformat_minor": 2
}
