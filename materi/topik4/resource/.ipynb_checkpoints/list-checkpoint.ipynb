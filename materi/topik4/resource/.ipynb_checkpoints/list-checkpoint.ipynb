{
 "cells": [
  {
   "cell_type": "markdown",
   "metadata": {},
   "source": [
    "# List"
   ]
  },
  {
   "cell_type": "markdown",
   "metadata": {},
   "source": [
    "Untuk membuat list itu sangat sederhana, tinggal masukan berbagai nilai yang dipisahkan koma di antara tanda kurung siku.\n",
    "Dibawah ini adalah beberapa contoh sederhana pembuatan list dalam bahasa Python"
   ]
  },
  {
   "cell_type": "code",
   "execution_count": 1,
   "metadata": {},
   "outputs": [],
   "source": [
    "list1 = ['TI','MI',2018,2017]\n",
    "list2 = [1,2,3,4,5,6,7,8,9]\n",
    "list3 = [\"a\",\"b\",\"c\",\"d\"]"
   ]
  },
  {
   "cell_type": "markdown",
   "metadata": {},
   "source": [
    "List di atas merupakan contoh sederhana dalam penggunaan list di bahasa Python"
   ]
  },
  {
   "cell_type": "markdown",
   "metadata": {},
   "source": [
    "# Akses Nilai Dalam List Python"
   ]
  },
  {
   "cell_type": "markdown",
   "metadata": {},
   "source": [
    "Untuk mengakses nilai di dalam sebuah list Python, kita dapat menggunakan tanda kurung siku dan index. Untuk index di list Python dimulai dari angka 0 berikut contoh bagaimana cara kita untuk mengakses nilai dari list yang telah kita buat tadi."
   ]
  },
  {
   "cell_type": "code",
   "execution_count": 2,
   "metadata": {},
   "outputs": [
    {
     "name": "stdout",
     "output_type": "stream",
     "text": [
      "list1 index ke-0 :  TI\n"
     ]
    }
   ],
   "source": [
    "#index ke 0 pada variabel list1 akan menampilkan TI\n",
    "print(\"list1 index ke-0 : \", list1[0])"
   ]
  },
  {
   "cell_type": "code",
   "execution_count": 3,
   "metadata": {},
   "outputs": [
    {
     "name": "stdout",
     "output_type": "stream",
     "text": [
      "list2 [2, 3, 4, 5]\n"
     ]
    }
   ],
   "source": [
    "#akan menampilkan nilai yang berada di index ke-1 sampai index ke-4\n",
    "print(\"list2\", list2[1:5])"
   ]
  },
  {
   "cell_type": "markdown",
   "metadata": {},
   "source": [
    "# Hapus Nilai Dalam List Python"
   ]
  },
  {
   "cell_type": "markdown",
   "metadata": {},
   "source": [
    "Untuk menghapus nilai di dalam list python, Anda dapat mengg:unakan salah satu pernyataan del juka anda tahu persis elemen yang anda hapus. Anda dapat menggunakan metoe del() jika anda tidak tahu persis item mana yang akan dihapus. Sebagai contoh :"
   ]
  },
  {
   "cell_type": "code",
   "execution_count": 4,
   "metadata": {},
   "outputs": [
    {
     "name": "stdout",
     "output_type": "stream",
     "text": [
      "['TI', 'MI', 2018, 2017]\n",
      "Setelah dihapus nilai pada index ke-2 : ['TI', 'MI', 2017]\n"
     ]
    }
   ],
   "source": [
    "print(list1)#menampilkan data di dalam list1 sebelum di hapus\n",
    "\n",
    "del list1[2] #menghapus nilai dari variabel list1 dengan index ke-2\n",
    "\n",
    "print(\"Setelah dihapus nilai pada index ke-2 : {}\".format(list1))"
   ]
  },
  {
   "cell_type": "markdown",
   "metadata": {},
   "source": [
    "# Operasi Dasar Pada List Python"
   ]
  },
  {
   "cell_type": "markdown",
   "metadata": {},
   "source": [
    "List Python merespons operator + dan * seperti string. Itu artinya penggabungan dan pengulangan disini juga berlaku, kecuali hasilnya adalah list barum bukan sebuah String."
   ]
  },
  {
   "cell_type": "code",
   "execution_count": 5,
   "metadata": {},
   "outputs": [
    {
     "name": "stdout",
     "output_type": "stream",
     "text": [
      "Panjang list2 adalah : 9\n",
      "Apakah 3 ada di list2? True\n"
     ]
    }
   ],
   "source": [
    "#menghitung panjang list\n",
    "print(\"Panjang list2 adalah : {}\".format(len(list2)))\n",
    "\n",
    "\n",
    "\n",
    "#memeriksa apakah 3 ada di dalam list2\n",
    "print(\"Apakah 3 ada di list2? {}\".format(3 in list2))"
   ]
  },
  {
   "cell_type": "markdown",
   "metadata": {},
   "source": [
    "# Update Nilai Dalam List Python"
   ]
  },
  {
   "cell_type": "markdown",
   "metadata": {},
   "source": [
    "Kita dapat memperbarui satu atau beberapa nilai di dalam list dengan memberikan potongan  di sisi kiri operator penugasan, dan kita dapat menambahkan nilai ke dalam list engan metode append()"
   ]
  },
  {
   "cell_type": "code",
   "execution_count": 12,
   "metadata": {
    "scrolled": true
   },
   "outputs": [
    {
     "name": "stdout",
     "output_type": "stream",
     "text": [
      "Nilai pada index ke-2 di list1 : 2016\n",
      "Nilai pada index ke-2 di list1 setelah updaate : 2016\n",
      "['TI', 'MI', 2016]\n"
     ]
    }
   ],
   "source": [
    "#nilai list1 sebelum di update\n",
    "print(\"Nilai pada index ke-2 di list1 : {}\".format(list1[2]))\n",
    "\n",
    "#nilai list1 pada index ke-2 akan di update dengan 2016\n",
    "\n",
    "list1[2] = 2016\n",
    "\n",
    "print(\"Nilai pada index ke-2 di list1 setelah updaate : {}\".format(list1[2]))\n",
    "print(list1)"
   ]
  },
  {
   "cell_type": "code",
   "execution_count": null,
   "metadata": {},
   "outputs": [],
   "source": []
  }
 ],
 "metadata": {
  "kernelspec": {
   "display_name": "Python 3",
   "language": "python",
   "name": "python3"
  },
  "language_info": {
   "codemirror_mode": {
    "name": "ipython",
    "version": 3
   },
   "file_extension": ".py",
   "mimetype": "text/x-python",
   "name": "python",
   "nbconvert_exporter": "python",
   "pygments_lexer": "ipython3",
   "version": "3.7.0"
  }
 },
 "nbformat": 4,
 "nbformat_minor": 2
}
